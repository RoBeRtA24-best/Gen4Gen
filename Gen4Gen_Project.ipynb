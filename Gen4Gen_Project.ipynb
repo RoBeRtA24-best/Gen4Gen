{
  "nbformat": 4,
  "nbformat_minor": 0,
  "metadata": {
    "colab": {
      "name": "Gen4Gen_Project.ipynb",
      "provenance": [],
      "collapsed_sections": [],
      "mount_file_id": "1IF_qWzqDhy7T8mv_xjxLa_MtUXPza7nP",
      "authorship_tag": "ABX9TyMByPWWyzIEaFshlQUw6kLe",
      "include_colab_link": true
    },
    "kernelspec": {
      "name": "python3",
      "display_name": "Python 3"
    },
    "language_info": {
      "name": "python"
    }
  },
  "cells": [
    {
      "cell_type": "markdown",
      "metadata": {
        "id": "view-in-github",
        "colab_type": "text"
      },
      "source": [
        "<a href=\"https://colab.research.google.com/github/MuhammadRustamShomi/Gen4Gen-1/blob/dev-rustam/Gen4Gen_Project.ipynb\" target=\"_parent\"><img src=\"https://colab.research.google.com/assets/colab-badge.svg\" alt=\"Open In Colab\"/></a>"
      ]
    },
    {
      "cell_type": "code",
      "metadata": {
        "id": "FgfclRorKfkZ"
      },
      "source": [
        "import nltk\n",
        "import pandas as pd\n",
        "import numpy as np\n",
        "from sklearn.model_selection import train_test_split\n",
        "from sklearn.metrics import classification_report\n",
        "import sklearn.metrics\n",
        "from pandas import DataFrame,Series\n",
        "from sklearn.feature_extraction.text import TfidfVectorizer\n",
        "from time import time\n",
        "import matplotlib.pyplot as plt\n",
        "import os\n",
        "os.chdir(os.getcwd())"
      ],
      "execution_count": 2,
      "outputs": []
    },
    {
      "cell_type": "code",
      "metadata": {
        "id": "Eho1gj52Kubd"
      },
      "source": [
        "df=pd.read_csv('/content/drive/MyDrive/Gen4Gen - Gen4Gen.csv',sep=',')"
      ],
      "execution_count": 3,
      "outputs": []
    },
    {
      "cell_type": "code",
      "metadata": {
        "colab": {
          "base_uri": "https://localhost:8080/",
          "height": 204
        },
        "id": "5F928xCVMNjR",
        "outputId": "9946273a-43ba-4bdf-e36b-536787c9b2f3"
      },
      "source": [
        "df.head()"
      ],
      "execution_count": 4,
      "outputs": [
        {
          "output_type": "execute_result",
          "data": {
            "text/html": [
              "<div>\n",
              "<style scoped>\n",
              "    .dataframe tbody tr th:only-of-type {\n",
              "        vertical-align: middle;\n",
              "    }\n",
              "\n",
              "    .dataframe tbody tr th {\n",
              "        vertical-align: top;\n",
              "    }\n",
              "\n",
              "    .dataframe thead th {\n",
              "        text-align: right;\n",
              "    }\n",
              "</style>\n",
              "<table border=\"1\" class=\"dataframe\">\n",
              "  <thead>\n",
              "    <tr style=\"text-align: right;\">\n",
              "      <th></th>\n",
              "      <th>Jobs</th>\n",
              "      <th>Description</th>\n",
              "    </tr>\n",
              "  </thead>\n",
              "  <tbody>\n",
              "    <tr>\n",
              "      <th>0</th>\n",
              "      <td>Data Analysis &amp; Reports</td>\n",
              "      <td>build automated and insightful power bi report</td>\n",
              "    </tr>\n",
              "    <tr>\n",
              "      <th>1</th>\n",
              "      <td>Greeting Cards &amp; Videos</td>\n",
              "      <td>get kermit to personalize a video birthday gre...</td>\n",
              "    </tr>\n",
              "    <tr>\n",
              "      <th>2</th>\n",
              "      <td>Website Builders &amp; CMS</td>\n",
              "      <td>build or redesign your existing squarespace we...</td>\n",
              "    </tr>\n",
              "    <tr>\n",
              "      <th>3</th>\n",
              "      <td>Cooking Lessons</td>\n",
              "      <td>create original eastern food cooking video recipe</td>\n",
              "    </tr>\n",
              "    <tr>\n",
              "      <th>4</th>\n",
              "      <td>Legal Writing</td>\n",
              "      <td>write gdpr privacy policy and terms and condit...</td>\n",
              "    </tr>\n",
              "  </tbody>\n",
              "</table>\n",
              "</div>"
            ],
            "text/plain": [
              "                      Jobs                                        Description\n",
              "0  Data Analysis & Reports     build automated and insightful power bi report\n",
              "1  Greeting Cards & Videos  get kermit to personalize a video birthday gre...\n",
              "2   Website Builders & CMS  build or redesign your existing squarespace we...\n",
              "3          Cooking Lessons  create original eastern food cooking video recipe\n",
              "4            Legal Writing  write gdpr privacy policy and terms and condit..."
            ]
          },
          "metadata": {
            "tags": []
          },
          "execution_count": 4
        }
      ]
    },
    {
      "cell_type": "code",
      "metadata": {
        "colab": {
          "base_uri": "https://localhost:8080/"
        },
        "id": "6ra35HBKMVwx",
        "outputId": "f4e6cd89-9747-44f5-8e13-fe515e722697"
      },
      "source": [
        "print(\"The data-set has %d rows and %d columns\"%(df.shape[0],df.shape[1]))"
      ],
      "execution_count": 5,
      "outputs": [
        {
          "output_type": "stream",
          "text": [
            "The data-set has 6183 rows and 2 columns\n"
          ],
          "name": "stdout"
        }
      ]
    },
    {
      "cell_type": "code",
      "metadata": {
        "colab": {
          "base_uri": "https://localhost:8080/"
        },
        "id": "-rSHB1i8Mrkl",
        "outputId": "8ae6a47b-755e-4943-f89c-8ee9a3c447a7"
      },
      "source": [
        "# Finding Missing Values (if any exists)\n",
        "print(df.columns) \n",
        "\n",
        "for col_name in df.columns:\n",
        "    print (col_name,end=\": \")\n",
        "    print (sum(df[col_name].isnull()))"
      ],
      "execution_count": 6,
      "outputs": [
        {
          "output_type": "stream",
          "text": [
            "Index(['Jobs', 'Description'], dtype='object')\n",
            "Jobs: 0\n",
            "Description: 0\n"
          ],
          "name": "stdout"
        }
      ]
    },
    {
      "cell_type": "code",
      "metadata": {
        "colab": {
          "base_uri": "https://localhost:8080/",
          "height": 173
        },
        "id": "Fbhsup_VDs5Z",
        "outputId": "ebf030b9-a1d5-43bd-b883-7975dcd0aace"
      },
      "source": [
        "df.describe(include='all')"
      ],
      "execution_count": 7,
      "outputs": [
        {
          "output_type": "execute_result",
          "data": {
            "text/html": [
              "<div>\n",
              "<style scoped>\n",
              "    .dataframe tbody tr th:only-of-type {\n",
              "        vertical-align: middle;\n",
              "    }\n",
              "\n",
              "    .dataframe tbody tr th {\n",
              "        vertical-align: top;\n",
              "    }\n",
              "\n",
              "    .dataframe thead th {\n",
              "        text-align: right;\n",
              "    }\n",
              "</style>\n",
              "<table border=\"1\" class=\"dataframe\">\n",
              "  <thead>\n",
              "    <tr style=\"text-align: right;\">\n",
              "      <th></th>\n",
              "      <th>Jobs</th>\n",
              "      <th>Description</th>\n",
              "    </tr>\n",
              "  </thead>\n",
              "  <tbody>\n",
              "    <tr>\n",
              "      <th>count</th>\n",
              "      <td>6183</td>\n",
              "      <td>6183</td>\n",
              "    </tr>\n",
              "    <tr>\n",
              "      <th>unique</th>\n",
              "      <td>129</td>\n",
              "      <td>6062</td>\n",
              "    </tr>\n",
              "    <tr>\n",
              "      <th>top</th>\n",
              "      <td>Book EditingNew</td>\n",
              "      <td>be your personal stylist</td>\n",
              "    </tr>\n",
              "    <tr>\n",
              "      <th>freq</th>\n",
              "      <td>48</td>\n",
              "      <td>5</td>\n",
              "    </tr>\n",
              "  </tbody>\n",
              "</table>\n",
              "</div>"
            ],
            "text/plain": [
              "                   Jobs               Description\n",
              "count              6183                      6183\n",
              "unique              129                      6062\n",
              "top     Book EditingNew  be your personal stylist\n",
              "freq                 48                         5"
            ]
          },
          "metadata": {
            "tags": []
          },
          "execution_count": 7
        }
      ]
    },
    {
      "cell_type": "code",
      "metadata": {
        "colab": {
          "base_uri": "https://localhost:8080/",
          "height": 419
        },
        "id": "rtqrJlx9D0lx",
        "outputId": "ad20bc57-668c-40de-918a-45a362b54d91"
      },
      "source": [
        "df.loc[df.duplicated(subset=\"Description\",keep='first')]"
      ],
      "execution_count": 8,
      "outputs": [
        {
          "output_type": "execute_result",
          "data": {
            "text/html": [
              "<div>\n",
              "<style scoped>\n",
              "    .dataframe tbody tr th:only-of-type {\n",
              "        vertical-align: middle;\n",
              "    }\n",
              "\n",
              "    .dataframe tbody tr th {\n",
              "        vertical-align: top;\n",
              "    }\n",
              "\n",
              "    .dataframe thead th {\n",
              "        text-align: right;\n",
              "    }\n",
              "</style>\n",
              "<table border=\"1\" class=\"dataframe\">\n",
              "  <thead>\n",
              "    <tr style=\"text-align: right;\">\n",
              "      <th></th>\n",
              "      <th>Jobs</th>\n",
              "      <th>Description</th>\n",
              "    </tr>\n",
              "  </thead>\n",
              "  <tbody>\n",
              "    <tr>\n",
              "      <th>347</th>\n",
              "      <td>Book EditingNew</td>\n",
              "      <td>be your professional book editor</td>\n",
              "    </tr>\n",
              "    <tr>\n",
              "      <th>576</th>\n",
              "      <td>Fitness Lessons</td>\n",
              "      <td>be your online personal trainer and nutritionist</td>\n",
              "    </tr>\n",
              "    <tr>\n",
              "      <th>1237</th>\n",
              "      <td>HR ConsultingNew</td>\n",
              "      <td>assist in human resource management tasks</td>\n",
              "    </tr>\n",
              "    <tr>\n",
              "      <th>1675</th>\n",
              "      <td>Book EditingNew</td>\n",
              "      <td>edit your fantasy novel</td>\n",
              "    </tr>\n",
              "    <tr>\n",
              "      <th>1749</th>\n",
              "      <td>Animation for Streamers</td>\n",
              "      <td>create custom animated twitch pack for your st...</td>\n",
              "    </tr>\n",
              "    <tr>\n",
              "      <th>...</th>\n",
              "      <td>...</td>\n",
              "      <td>...</td>\n",
              "    </tr>\n",
              "    <tr>\n",
              "      <th>6077</th>\n",
              "      <td>Personal StylistsNew</td>\n",
              "      <td>be your personal stylist</td>\n",
              "    </tr>\n",
              "    <tr>\n",
              "      <th>6083</th>\n",
              "      <td>Podcast EditingNew</td>\n",
              "      <td>professionally edit your podcast</td>\n",
              "    </tr>\n",
              "    <tr>\n",
              "      <th>6098</th>\n",
              "      <td>Unboxing VideosNew</td>\n",
              "      <td>unbox your product and try it in a video</td>\n",
              "    </tr>\n",
              "    <tr>\n",
              "      <th>6165</th>\n",
              "      <td>Business Names &amp; Slogans</td>\n",
              "      <td>think of 5 original name ideas for your busine...</td>\n",
              "    </tr>\n",
              "    <tr>\n",
              "      <th>6166</th>\n",
              "      <td>Podcast EditingNew</td>\n",
              "      <td>edit and master your podcast</td>\n",
              "    </tr>\n",
              "  </tbody>\n",
              "</table>\n",
              "<p>121 rows × 2 columns</p>\n",
              "</div>"
            ],
            "text/plain": [
              "                          Jobs                                        Description\n",
              "347            Book EditingNew                   be your professional book editor\n",
              "576            Fitness Lessons   be your online personal trainer and nutritionist\n",
              "1237          HR ConsultingNew          assist in human resource management tasks\n",
              "1675           Book EditingNew                            edit your fantasy novel\n",
              "1749   Animation for Streamers  create custom animated twitch pack for your st...\n",
              "...                        ...                                                ...\n",
              "6077      Personal StylistsNew                           be your personal stylist\n",
              "6083        Podcast EditingNew                   professionally edit your podcast\n",
              "6098        Unboxing VideosNew           unbox your product and try it in a video\n",
              "6165  Business Names & Slogans  think of 5 original name ideas for your busine...\n",
              "6166        Podcast EditingNew                       edit and master your podcast\n",
              "\n",
              "[121 rows x 2 columns]"
            ]
          },
          "metadata": {
            "tags": []
          },
          "execution_count": 8
        }
      ]
    },
    {
      "cell_type": "code",
      "metadata": {
        "id": "C_1cEh4gFT_6"
      },
      "source": [
        "jobs_df2=df.drop_duplicates()"
      ],
      "execution_count": 9,
      "outputs": []
    },
    {
      "cell_type": "code",
      "metadata": {
        "colab": {
          "base_uri": "https://localhost:8080/"
        },
        "id": "jcglD8shFpMx",
        "outputId": "757b919a-94b8-4376-b869-e976ea8cf1e5"
      },
      "source": [
        "print(sum(jobs_df2.duplicated()))\n",
        "jobs_df2.shape"
      ],
      "execution_count": 10,
      "outputs": [
        {
          "output_type": "stream",
          "text": [
            "0\n"
          ],
          "name": "stdout"
        },
        {
          "output_type": "execute_result",
          "data": {
            "text/plain": [
              "(6071, 2)"
            ]
          },
          "metadata": {
            "tags": []
          },
          "execution_count": 10
        }
      ]
    },
    {
      "cell_type": "code",
      "metadata": {
        "id": "i3-SgtEdGTpU"
      },
      "source": [
        "category_counter={x:0 for x in set(jobs_df2['Jobs'])} "
      ],
      "execution_count": 11,
      "outputs": []
    },
    {
      "cell_type": "code",
      "metadata": {
        "id": "9Nq0OcujFxec"
      },
      "source": [
        "for each_cat in jobs_df2['Jobs']:\n",
        "    category_counter[each_cat]+=1"
      ],
      "execution_count": 12,
      "outputs": []
    },
    {
      "cell_type": "code",
      "metadata": {
        "colab": {
          "base_uri": "https://localhost:8080/"
        },
        "id": "XQ28c8mgGc7C",
        "outputId": "c8a04b25-5fb9-4afd-e040-0d59b301e558"
      },
      "source": [
        "print(category_counter)   # list of distinct categories in whole dataset\n",
        "ylab=[]\n",
        "for val in category_counter.values():\n",
        "    ylab.append(val)\n",
        "xlab=[]\n",
        "for key in category_counter.keys():\n",
        "    xlab.append(key)"
      ],
      "execution_count": 13,
      "outputs": [
        {
          "output_type": "stream",
          "text": [
            "{'E-Commerce Marketing': 48, 'Branding Services': 48, 'Market Research': 48, 'Spiritual & Healing': 48, 'Scriptwriting': 48, 'Session Musicians': 48, 'Live Action Explainers': 48, 'E-Commerce ManagementNew': 48, 'Online Lessons': 48, 'Celebrity Impersonators': 48, 'Character Animation': 46, 'Cybersecurity & Data ProtectionNew': 39, 'Sound DesignNew': 48, 'Fitness Lessons': 46, 'Singers & Vocalists': 47, 'Project ManagementNew': 48, 'Game Development': 48, 'Flyer Distribution': 48, 'Jingles & Intros': 48, 'DJ Drops & Tags': 48, 'eLearning Video ProductionNew': 42, 'Virtual Assistant': 44, 'WordPress': 48, 'Web Traffic': 48, 'Research & Summaries': 48, 'SongwritersNew': 48, 'UX Writing': 47, 'App & Website Previews': 47, 'Sales Copy': 48, 'Subtitles & Captions': 48, 'Desktop Applications': 48, 'QA': 48, 'Resume Writing': 47, 'Financial ConsultingNew': 48, 'Animation for Kids': 45, 'Press Releases': 45, 'Case Studies': 48, 'Data Analysis & Reports': 48, 'Book & eBook Writing': 47, 'Relationship Advice': 46, 'Article to VideoNew': 44, 'Music Promotion': 47, 'Visual Effects': 46, 'Grant Writing': 46, 'Whiteboard & Animated Explainers': 47, 'Online Music LessonsNew': 48, 'Producers & Composers': 48, 'Influencer Marketing': 46, 'Business Consulting': 47, 'Book EditingNew': 47, 'Intros & Outros': 48, 'Domain Research': 47, 'Animated GIFs': 48, 'Music TranscriptionNew': 48, 'Dialogue Editing': 48, 'Video Editing': 46, 'Animation for Streamers': 46, 'Lead Generation': 48, 'Health, Nutrition & Fitness': 46, 'Support & IT': 48, 'Online Language LessonsNew': 48, 'Business Plans': 48, '3D Product Animation': 45, 'Real Estate Promos': 48, 'Convert Files': 48, 'Audio Ads ProductionNew': 47, 'Social Media Copy': 46, 'Creative Writing': 48, 'Game Trailers': 48, 'Audiobook ProductionNew': 48, 'Proofreading & Editing': 46, 'Spokespersons Videos': 41, 'Databases': 48, 'Slideshows Videos': 47, 'Your Message On...': 46, 'Transcripts': 47, 'Website Content': 48, 'Podcast Writing': 46, 'Traveling': 47, 'Presentations': 48, 'Astrology & Readings': 47, 'Personal StylistsNew': 41, 'Technical Writing': 48, 'Short Video Ads': 46, 'Chatbots': 48, 'Career Counseling': 48, 'Legal Consulting': 47, 'Logo Animation': 47, 'Online Coding LessonsNew': 48, 'Greeting Cards & Videos': 48, 'Data Entry': 48, 'Business Names & Slogans': 47, 'Legal Writing': 47, 'Podcast EditingNew': 44, 'Beta Reading': 46, 'Collectibles': 48, 'Book Trailers': 47, 'Speechwriting': 48, 'Local SEO': 48, 'Screencasting Videos': 45, 'Translation': 48, 'Website Builders & CMS': 48, 'Product Descriptions': 47, 'Mobile Marketing & Advertising': 47, 'Craft Lessons': 48, 'Lyric & Music Videos': 48, 'E-Commerce Development': 48, 'White Papers': 47, 'Vocal Tuning': 47, 'Brand Voice & Tone': 48, 'Mobile Apps': 47, 'Cooking Lessons': 47, 'Development for StreamersNew': 48, 'Mixing & Mastering': 44, 'Family & Genealogy': 48, 'Arts & Crafts': 48, 'Viral Videos': 48, 'Web Programming': 47, 'User Testing': 48, 'Gaming': 48, 'Unboxing VideosNew': 45, 'Articles & Blog Posts': 48, 'LinkedIn Profiles': 46, 'Email Copy': 48, 'Local PhotographyBeta': 48, 'HR ConsultingNew': 47, 'Voice Over': 48, 'Cover Letters': 48, 'Product Photography': 47}\n"
          ],
          "name": "stdout"
        }
      ]
    },
    {
      "cell_type": "code",
      "metadata": {
        "colab": {
          "base_uri": "https://localhost:8080/",
          "height": 423
        },
        "id": "DRwbYRCuGnU-",
        "outputId": "6b7ea044-35ac-476f-edb0-83acbea0d851"
      },
      "source": [
        "%matplotlib inline\n",
        "plt.figure(figsize=(30,10))\n",
        "plt.style.use(\"seaborn\")\n",
        "ypos=np.arange(len(xlab))\n",
        "plt.xticks(ypos,xlab,rotation=90)\n",
        "plt.xlabel('Categories')\n",
        "plt.ylabel('No. of Jobs',fontsize=12)\n",
        "plt.bar(ypos,ylab,edgecolor='black',linewidth=1.5)\n",
        "plt.show()"
      ],
      "execution_count": 14,
      "outputs": [
        {
          "output_type": "display_data",
          "data": {
            "image/png": "[encoded data removed]",
            "text/plain": [
              "<Figure size 2160x720 with 1 Axes>"
            ]
          },
          "metadata": {
            "tags": [],
            "needs_background": "light"
          }
        }
      ]
    },
    {
      "cell_type": "code",
      "metadata": {
        "id": "pnH-s9vmHND6"
      },
      "source": [
        "corpus=jobs_df2.Description"
      ],
      "execution_count": 15,
      "outputs": []
    },
    {
      "cell_type": "code",
      "metadata": {
        "colab": {
          "base_uri": "https://localhost:8080/"
        },
        "id": "DKozKeUFHz_F",
        "outputId": "a1422613-8154-451a-8e67-815d83cbaadd"
      },
      "source": [
        "all_words=[w.split() for w in corpus]\n",
        "\n",
        "all_flat_words=[ewords for words in all_words for ewords in words]\n",
        "\n",
        "from nltk.corpus import stopwords\n",
        "import nltk\n",
        "nltk.download('stopwords')\n",
        "\n",
        "all_flat_words_ns=[w for w in all_flat_words if w not in stopwords.words(\"english\")]\n",
        "#removing all the stop words from the corpus\n",
        "\n",
        "set_nf=set(all_flat_words_ns)\n",
        "\n"
      ],
      "execution_count": 16,
      "outputs": [
        {
          "output_type": "stream",
          "text": [
            "[nltk_data] Downloading package stopwords to /root/nltk_data...\n",
            "[nltk_data]   Unzipping corpora/stopwords.zip.\n"
          ],
          "name": "stdout"
        }
      ]
    },
    {
      "cell_type": "code",
      "metadata": {
        "colab": {
          "base_uri": "https://localhost:8080/"
        },
        "id": "wnb6snXoJ7sD",
        "outputId": "3413de43-b835-4fe7-dd2e-01180fdd0ba1"
      },
      "source": [
        "print(\"Number of unique vocabulary words in the Description column of the dataframe: %d\"%len(set_nf))"
      ],
      "execution_count": 17,
      "outputs": [
        {
          "output_type": "stream",
          "text": [
            "Number of unique vocabulary words in the Description column of the dataframe: 5270\n"
          ],
          "name": "stdout"
        }
      ]
    },
    {
      "cell_type": "code",
      "metadata": {
        "id": "7Bd5IXzaIIzi",
        "colab": {
          "base_uri": "https://localhost:8080/"
        },
        "outputId": "4815b23d-9243-4079-87a3-20fd0854e34d"
      },
      "source": [
        "porter=nltk.PorterStemmer()\n",
        "for each_row in jobs_df2.itertuples():\n",
        "    m1=map(lambda x: x,(each_row[1]+' '+each_row[2]).lower().split())\n",
        "    #for each row, it gets title and job description, concatenates them and converts them to lower case.\n",
        "    m2=map(lambda x: porter.stem(x),m1)\n",
        "    #Using Porter Stemmer in NLTK, stemming is performed on the str created in previous step.\n",
        "    jobs_df2.loc[each_row[0],'query_desc']=' '.join(m2)\n",
        "    #a derived column is created and the pre-processed string is stored in that column for each row."
      ],
      "execution_count": 18,
      "outputs": [
        {
          "output_type": "stream",
          "text": [
            "/usr/local/lib/python3.7/dist-packages/pandas/core/indexing.py:1596: SettingWithCopyWarning: \n",
            "A value is trying to be set on a copy of a slice from a DataFrame.\n",
            "Try using .loc[row_indexer,col_indexer] = value instead\n",
            "\n",
            "See the caveats in the documentation: https://pandas.pydata.org/pandas-docs/stable/user_guide/indexing.html#returning-a-view-versus-a-copy\n",
            "  self.obj[key] = _infer_fill_value(value)\n",
            "/usr/local/lib/python3.7/dist-packages/pandas/core/indexing.py:1763: SettingWithCopyWarning: \n",
            "A value is trying to be set on a copy of a slice from a DataFrame.\n",
            "Try using .loc[row_indexer,col_indexer] = value instead\n",
            "\n",
            "See the caveats in the documentation: https://pandas.pydata.org/pandas-docs/stable/user_guide/indexing.html#returning-a-view-versus-a-copy\n",
            "  isetter(loc, value)\n",
            "/usr/local/lib/python3.7/dist-packages/pandas/core/indexing.py:670: SettingWithCopyWarning: \n",
            "A value is trying to be set on a copy of a slice from a DataFrame\n",
            "\n",
            "See the caveats in the documentation: https://pandas.pydata.org/pandas-docs/stable/user_guide/indexing.html#returning-a-view-versus-a-copy\n",
            "  iloc._setitem_with_indexer(indexer, value)\n",
            "/usr/local/lib/python3.7/dist-packages/ipykernel_launcher.py:7: SettingWithCopyWarning: \n",
            "A value is trying to be set on a copy of a slice from a DataFrame\n",
            "\n",
            "See the caveats in the documentation: https://pandas.pydata.org/pandas-docs/stable/user_guide/indexing.html#returning-a-view-versus-a-copy\n",
            "  import sys\n"
          ],
          "name": "stderr"
        }
      ]
    },
    {
      "cell_type": "code",
      "metadata": {
        "colab": {
          "base_uri": "https://localhost:8080/",
          "height": 204
        },
        "id": "kyKUM9KUKYMk",
        "outputId": "bade73ac-3457-4c67-8ffe-8d8995b583dc"
      },
      "source": [
        "#to confirm if we have successfully completed the transformation:\n",
        "jobs_df2.head()\n",
        "#it can be seen that a new column is created and filled with the stemmed words comprised of data concatenated from title and desc\n",
        "#columns of the data frame. This newly created column will become our corpus for subsequent feature extraction process."
      ],
      "execution_count": 19,
      "outputs": [
        {
          "output_type": "execute_result",
          "data": {
            "text/html": [
              "<div>\n",
              "<style scoped>\n",
              "    .dataframe tbody tr th:only-of-type {\n",
              "        vertical-align: middle;\n",
              "    }\n",
              "\n",
              "    .dataframe tbody tr th {\n",
              "        vertical-align: top;\n",
              "    }\n",
              "\n",
              "    .dataframe thead th {\n",
              "        text-align: right;\n",
              "    }\n",
              "</style>\n",
              "<table border=\"1\" class=\"dataframe\">\n",
              "  <thead>\n",
              "    <tr style=\"text-align: right;\">\n",
              "      <th></th>\n",
              "      <th>Jobs</th>\n",
              "      <th>Description</th>\n",
              "      <th>query_desc</th>\n",
              "    </tr>\n",
              "  </thead>\n",
              "  <tbody>\n",
              "    <tr>\n",
              "      <th>0</th>\n",
              "      <td>Data Analysis &amp; Reports</td>\n",
              "      <td>build automated and insightful power bi report</td>\n",
              "      <td>data analysi &amp; report build autom and insight ...</td>\n",
              "    </tr>\n",
              "    <tr>\n",
              "      <th>1</th>\n",
              "      <td>Greeting Cards &amp; Videos</td>\n",
              "      <td>get kermit to personalize a video birthday gre...</td>\n",
              "      <td>greet card &amp; video get kermit to person a vide...</td>\n",
              "    </tr>\n",
              "    <tr>\n",
              "      <th>2</th>\n",
              "      <td>Website Builders &amp; CMS</td>\n",
              "      <td>build or redesign your existing squarespace we...</td>\n",
              "      <td>websit builder &amp; cm build or redesign your exi...</td>\n",
              "    </tr>\n",
              "    <tr>\n",
              "      <th>3</th>\n",
              "      <td>Cooking Lessons</td>\n",
              "      <td>create original eastern food cooking video recipe</td>\n",
              "      <td>cook lesson creat origin eastern food cook vid...</td>\n",
              "    </tr>\n",
              "    <tr>\n",
              "      <th>4</th>\n",
              "      <td>Legal Writing</td>\n",
              "      <td>write gdpr privacy policy and terms and condit...</td>\n",
              "      <td>legal write write gdpr privaci polici and term...</td>\n",
              "    </tr>\n",
              "  </tbody>\n",
              "</table>\n",
              "</div>"
            ],
            "text/plain": [
              "                      Jobs  ...                                         query_desc\n",
              "0  Data Analysis & Reports  ...  data analysi & report build autom and insight ...\n",
              "1  Greeting Cards & Videos  ...  greet card & video get kermit to person a vide...\n",
              "2   Website Builders & CMS  ...  websit builder & cm build or redesign your exi...\n",
              "3          Cooking Lessons  ...  cook lesson creat origin eastern food cook vid...\n",
              "4            Legal Writing  ...  legal write write gdpr privaci polici and term...\n",
              "\n",
              "[5 rows x 3 columns]"
            ]
          },
          "metadata": {
            "tags": []
          },
          "execution_count": 19
        }
      ]
    },
    {
      "cell_type": "code",
      "metadata": {
        "id": "sx4YMWmNKoVZ"
      },
      "source": [
        "corpus=jobs_df2.query_desc\n",
        "vectorizer = TfidfVectorizer(stop_words='english')\n",
        "#Initializing TFIDF vectorizer to convert the raw corpus to a matrix of TFIDF features and also enabling the removal of stopwords.\n",
        "tfidf_matrix=vectorizer.fit_transform(corpus).todense()\n",
        "#creating TFIDF features sparse matrix by fitting it on the specified corpus. \n",
        "tfidf_names=vectorizer.get_feature_names()\n",
        "#grabbing the name of the features."
      ],
      "execution_count": 20,
      "outputs": []
    },
    {
      "cell_type": "code",
      "metadata": {
        "colab": {
          "base_uri": "https://localhost:8080/"
        },
        "id": "uxo8VmwRK36-",
        "outputId": "19ba7358-b415-4d9a-af3b-66534fe96945"
      },
      "source": [
        "print(\"Number of TFIDF Features: %d\"%len(tfidf_names))"
      ],
      "execution_count": 21,
      "outputs": [
        {
          "output_type": "stream",
          "text": [
            "Number of TFIDF Features: 3805\n"
          ],
          "name": "stdout"
        }
      ]
    },
    {
      "cell_type": "code",
      "metadata": {
        "id": "glxp0o9DK9ev"
      },
      "source": [
        "training_time_container={'b_naive_bayes':0,'mn_naive_bayes':0,'random_forest':0,'linear_svm':0}\n",
        "prediction_time_container={'b_naive_bayes':0,'mn_naive_bayes':0,'random_forest':0,'linear_svm':0}\n",
        "accuracy_container={'b_naive_bayes':0,'mn_naive_bayes':0,'random_forest':0,'linear_svm':0}"
      ],
      "execution_count": 22,
      "outputs": []
    },
    {
      "cell_type": "code",
      "metadata": {
        "id": "_Rv82lXhLKJG"
      },
      "source": [
        "variables=tfidf_matrix\n",
        "#considering the TFIDF features as independent variables to be input to the classifier.\n",
        "labels=jobs_df2.Jobs\n",
        "#considering the category values as the class labels for the classifier.\n",
        "\n",
        "variables_train,variables_test,labels_train,labels_test=train_test_split(variables,labels,test_size=.1)\n",
        "#splitting the data into random training and test sets for both independent variables and labels."
      ],
      "execution_count": 23,
      "outputs": []
    },
    {
      "cell_type": "code",
      "metadata": {
        "colab": {
          "base_uri": "https://localhost:8080/"
        },
        "id": "NFWS-TNzQcQp",
        "outputId": "f9815550-40e1-472f-99b3-2c82914b1c72"
      },
      "source": [
        "#analyzing the shape of the training and test data-set:\n",
        "print('Shape of Training Data: '+str(variables_train.shape))\n",
        "print('Shape of Test Data: '+str(variables_test.shape))"
      ],
      "execution_count": 24,
      "outputs": [
        {
          "output_type": "stream",
          "text": [
            "Shape of Training Data: (5463, 3805)\n",
            "Shape of Test Data: (608, 3805)\n"
          ],
          "name": "stdout"
        }
      ]
    },
    {
      "cell_type": "code",
      "metadata": {
        "colab": {
          "base_uri": "https://localhost:8080/"
        },
        "id": "r584UL25Qr-k",
        "outputId": "2c530a67-40a5-4b83-bf08-6ec58620d79a"
      },
      "source": [
        "\n",
        "training_time_container.keys()"
      ],
      "execution_count": 25,
      "outputs": [
        {
          "output_type": "execute_result",
          "data": {
            "text/plain": [
              "dict_keys(['b_naive_bayes', 'mn_naive_bayes', 'random_forest', 'linear_svm'])"
            ]
          },
          "metadata": {
            "tags": []
          },
          "execution_count": 25
        }
      ]
    },
    {
      "cell_type": "code",
      "metadata": {
        "id": "vW3fV4vCQ6tb"
      },
      "source": [
        "from sklearn.naive_bayes import BernoulliNB\n",
        "#loading Gaussian Naive Bayes from the sklearn library\n",
        "bnb_classifier=BernoulliNB()\n",
        "#initializing the object\n",
        "t0=time()\n",
        "bnb_classifier=bnb_classifier.fit(variables_train,labels_train)\n",
        "training_time_container['b_naive_bayes']=time()-t0\n",
        "#fitting the classifier or training the classifier on the training data"
      ],
      "execution_count": 26,
      "outputs": []
    },
    {
      "cell_type": "code",
      "metadata": {
        "id": "86y57K50RDY3"
      },
      "source": [
        "#after the model has been trained, we proceed to test its performance on the test data:\n",
        "t0=time()\n",
        "bnb_predictions=bnb_classifier.predict(variables_test)\n",
        "prediction_time_container['b_naive_bayes']=time()-t0"
      ],
      "execution_count": 27,
      "outputs": []
    },
    {
      "cell_type": "code",
      "metadata": {
        "colab": {
          "base_uri": "https://localhost:8080/"
        },
        "id": "gwbebfGCRLtX",
        "outputId": "7ac9a104-8085-42b3-c83c-6ba2b256d85b"
      },
      "source": [
        "prediction_time_container['b_naive_bayes']"
      ],
      "execution_count": 28,
      "outputs": [
        {
          "output_type": "execute_result",
          "data": {
            "text/plain": [
              "0.0696570873260498"
            ]
          },
          "metadata": {
            "tags": []
          },
          "execution_count": 28
        }
      ]
    },
    {
      "cell_type": "code",
      "metadata": {
        "id": "azcJ2wydRVBv"
      },
      "source": [
        "#the trained classifier has been used to make predictions on the test data-set. To evaluate the performance of the model,\n",
        "#there are a number of metrics that can be used as follows:\n",
        "nb_ascore=sklearn.metrics.accuracy_score(labels_test, bnb_predictions)\n",
        "accuracy_container['b_naive_bayes']=nb_ascore"
      ],
      "execution_count": 29,
      "outputs": []
    },
    {
      "cell_type": "code",
      "metadata": {
        "colab": {
          "base_uri": "https://localhost:8080/"
        },
        "id": "DVVMMRg3Rc8s",
        "outputId": "87aa1a8c-3118-40cb-b14a-50bc51ffb26f"
      },
      "source": [
        "print(\"Bernoulli Naive Bayes Accuracy Score: %f\"%accuracy_container['b_naive_bayes'])\n",
        "print(\"Training Time: %f\"%training_time_container['b_naive_bayes'])\n",
        "print(\"Prediction Time: %f\"%prediction_time_container['b_naive_bayes'])"
      ],
      "execution_count": 30,
      "outputs": [
        {
          "output_type": "stream",
          "text": [
            "Bernoulli Naive Bayes Accuracy Score: 0.810855\n",
            "Training Time: 0.408360\n",
            "Prediction Time: 0.069657\n"
          ],
          "name": "stdout"
        }
      ]
    },
    {
      "cell_type": "code",
      "metadata": {
        "colab": {
          "base_uri": "https://localhost:8080/"
        },
        "id": "CpcQge7yRniV",
        "outputId": "4eeb9043-234b-468a-e34b-2840c259ccba"
      },
      "source": [
        "#it shows that the accuracy score of our model is 0.7237 or 72.37%. \n",
        "#Confusion Matrix is also another way to evaluate the prediction output of a classifier and also to determine the false positive\n",
        "#and false negative, sensitivity, specificity, precision and recall metrics\n",
        "print(\"Confusion Matrix of Bernoulli Naive Bayes Classifier output: \")\n",
        "sklearn.metrics.confusion_matrix(labels_test,bnb_predictions)\n",
        "#the values on the diagonal show correct predictions where as off-diagonal represent the records that have been misclassified."
      ],
      "execution_count": 31,
      "outputs": [
        {
          "output_type": "stream",
          "text": [
            "Confusion Matrix of Bernoulli Naive Bayes Classifier output: \n"
          ],
          "name": "stdout"
        },
        {
          "output_type": "execute_result",
          "data": {
            "text/plain": [
              "array([[0, 1, 0, ..., 0, 0, 0],\n",
              "       [0, 2, 0, ..., 0, 0, 0],\n",
              "       [0, 4, 1, ..., 0, 0, 0],\n",
              "       ...,\n",
              "       [0, 0, 0, ..., 5, 0, 0],\n",
              "       [0, 0, 0, ..., 0, 2, 0],\n",
              "       [0, 0, 0, ..., 0, 0, 1]])"
            ]
          },
          "metadata": {
            "tags": []
          },
          "execution_count": 31
        }
      ]
    },
    {
      "cell_type": "code",
      "metadata": {
        "id": "h-vng9KERwNy"
      },
      "source": [
        "from sklearn.naive_bayes import MultinomialNB\n",
        "mn_bayes=MultinomialNB()\n",
        "t0=time()\n",
        "mn_bayes_fit=mn_bayes.fit(variables_train,labels_train)\n",
        "training_time_container['mn_naive_bayes']=time()-t0\n",
        "t0=time()\n",
        "prediction_mn=mn_bayes_fit.predict(variables_test)\n",
        "prediction_time_container['mn_naive_bayes']=time()-t0\n",
        "mn_ascore=sklearn.metrics.accuracy_score(labels_test, prediction_mn) \n",
        "accuracy_container['mn_naive_bayes']=mn_ascore"
      ],
      "execution_count": 32,
      "outputs": []
    },
    {
      "cell_type": "code",
      "metadata": {
        "id": "Vvj17i_2SFS4",
        "colab": {
          "base_uri": "https://localhost:8080/"
        },
        "outputId": "aec5d2ce-bad0-4cc4-a56f-a820f7455c69"
      },
      "source": [
        "print(\"Accuracy Score of Multi-Nomial Naive Bayes: %f\" %(mn_ascore))\n",
        "print(\"Training Time: %fs\"%training_time_container['mn_naive_bayes'])\n",
        "print(\"Prediction Time: %fs\"%prediction_time_container['mn_naive_bayes'])"
      ],
      "execution_count": 33,
      "outputs": [
        {
          "output_type": "stream",
          "text": [
            "Accuracy Score of Multi-Nomial Naive Bayes: 0.975329\n",
            "Training Time: 0.265487s\n",
            "Prediction Time: 0.021734s\n"
          ],
          "name": "stdout"
        }
      ]
    },
    {
      "cell_type": "code",
      "metadata": {
        "id": "WRx7Q2-d4AGF"
      },
      "source": [
        "# Random Forest Classifier"
      ],
      "execution_count": 34,
      "outputs": []
    },
    {
      "cell_type": "code",
      "metadata": {
        "colab": {
          "base_uri": "https://localhost:8080/"
        },
        "id": "1dQx-hIZ4CBf",
        "outputId": "bdd67f99-28f8-49c1-eea1-f6b49f232a4f"
      },
      "source": [
        "from sklearn.ensemble import RandomForestClassifier\n",
        "\n",
        "rf_classifier=RandomForestClassifier(n_estimators=50)\n",
        "t0=time()\n",
        "rf_classifier=rf_classifier.fit(variables_train,labels_train)\n",
        "\n",
        "training_time_container['random_forest']=time()-t0\n",
        "print(\"Training Time: %fs\"%training_time_container['random_forest'])\n",
        "\n",
        "t0=time()\n",
        "rf_predictions=rf_classifier.predict(variables_test)\n",
        "prediction_time_container['random_forest']=time()-t0\n",
        "print(\"Prediction Time: %fs\"%prediction_time_container['random_forest'])\n",
        "\n",
        "accuracy_container['random_forest']=sklearn.metrics.accuracy_score(labels_test, rf_predictions)\n",
        "print (\"Accuracy Score of Random Forests Classifier: \")\n",
        "print(accuracy_container['random_forest'])\n",
        "print(sklearn.metrics.confusion_matrix(labels_test,rf_predictions))"
      ],
      "execution_count": 35,
      "outputs": [
        {
          "output_type": "stream",
          "text": [
            "Training Time: 7.304782s\n",
            "Prediction Time: 0.049219s\n",
            "Accuracy Score of Random Forests Classifier: \n",
            "0.9868421052631579\n",
            "[[6 0 0 ... 0 0 0]\n",
            " [0 2 0 ... 0 0 0]\n",
            " [0 0 5 ... 0 0 0]\n",
            " ...\n",
            " [0 0 0 ... 7 0 0]\n",
            " [0 0 0 ... 0 5 0]\n",
            " [0 0 0 ... 0 0 1]]\n"
          ],
          "name": "stdout"
        }
      ]
    },
    {
      "cell_type": "code",
      "metadata": {
        "id": "7TfgEnZz4P50"
      },
      "source": [
        "# Linear SVM using Stochastic Gradient Descent"
      ],
      "execution_count": 36,
      "outputs": []
    },
    {
      "cell_type": "code",
      "metadata": {
        "colab": {
          "base_uri": "https://localhost:8080/"
        },
        "id": "y3OAyR9x4ZOW",
        "outputId": "7a08bcb0-332d-4086-ee95-31e76df880d2"
      },
      "source": [
        "from sklearn import linear_model\n",
        "\n",
        "svm_classifier=linear_model.SGDClassifier(loss='hinge',alpha=0.0001)\n",
        "\n",
        "t0=time()\n",
        "svm_classifier=svm_classifier.fit(variables_train, labels_train)\n",
        "training_time_container['linear_svm']=time()-t0\n",
        "print(\"Training Time: %fs\"%training_time_container['linear_svm'])\n",
        "\n",
        "t0=time()\n",
        "svm_predictions=svm_classifier.predict(variables_test)\n",
        "prediction_time_container['linear_svm']=time()-t0\n",
        "print(\"Prediction Time: %fs\"%prediction_time_container['linear_svm'])\n",
        "\n",
        "accuracy_container['linear_svm']=sklearn.metrics.accuracy_score(labels_test, svm_predictions)\n",
        "print (\"Accuracy Score of Linear SVM Classifier: %f\"%accuracy_container['linear_svm'])\n",
        "print(sklearn.metrics.confusion_matrix(labels_test,svm_predictions))"
      ],
      "execution_count": 37,
      "outputs": [
        {
          "output_type": "stream",
          "text": [
            "Training Time: 33.245178s\n",
            "Prediction Time: 0.022223s\n",
            "Accuracy Score of Linear SVM Classifier: 0.988487\n",
            "[[7 0 0 ... 0 0 0]\n",
            " [0 2 0 ... 0 0 0]\n",
            " [0 0 5 ... 0 0 0]\n",
            " ...\n",
            " [0 0 0 ... 7 0 0]\n",
            " [0 0 0 ... 0 6 0]\n",
            " [0 0 0 ... 0 0 1]]\n"
          ],
          "name": "stdout"
        }
      ]
    },
    {
      "cell_type": "code",
      "metadata": {
        "id": "TBVSu48S4jNG"
      },
      "source": [
        "\n",
        "#if we train the SGD Classifier with elastic net penalty, it  brings more sparsity to the model not possible with the L2:\n",
        "svm_classifier_enet=linear_model.SGDClassifier(loss='hinge',alpha=0.0001,penalty='elasticnet')\n",
        "svm_classifier_enet=svm_classifier_enet.fit(variables_train, labels_train)"
      ],
      "execution_count": 38,
      "outputs": []
    },
    {
      "cell_type": "code",
      "metadata": {
        "id": "R8zvnmYfDvXE"
      },
      "source": [
        "svm_enet_predictions=svm_classifier_enet.predict(variables_test)"
      ],
      "execution_count": 39,
      "outputs": []
    },
    {
      "cell_type": "code",
      "metadata": {
        "colab": {
          "base_uri": "https://localhost:8080/"
        },
        "id": "_F6JUp-xElXc",
        "outputId": "8a466980-5a8b-4c34-e74b-e4f15a42c9b0"
      },
      "source": [
        "print (\"Accuracy Score of Linear SVM Classifier: %f\"%sklearn.metrics.accuracy_score(labels_test,svm_enet_predictions))"
      ],
      "execution_count": 40,
      "outputs": [
        {
          "output_type": "stream",
          "text": [
            "Accuracy Score of Linear SVM Classifier: 0.983553\n"
          ],
          "name": "stdout"
        }
      ]
    },
    {
      "cell_type": "code",
      "metadata": {
        "id": "d2rACS8kE8E5"
      },
      "source": [
        "%matplotlib inline\n",
        "ytrainlab=[]\n",
        "for val in training_time_container.values():\n",
        "    ytrainlab.append(val)\n",
        "xtrainlab=[]\n",
        "for key in training_time_container.keys():\n",
        "    xtrainlab.append(key)"
      ],
      "execution_count": 41,
      "outputs": []
    },
    {
      "cell_type": "code",
      "metadata": {
        "colab": {
          "base_uri": "https://localhost:8080/",
          "height": 523
        },
        "id": "lFnbbZSYFKGU",
        "outputId": "62e62b11-e751-4447-b732-c747758796f0"
      },
      "source": [
        "plt.figure(figsize=(16,7))\n",
        "plt.style.use(\"seaborn\")\n",
        "ytrainpos=np.arange(len(xtrainlab))\n",
        "plt.xticks(ytrainpos,xtrainlab,rotation=90)\n",
        "plt.ylabel(\"Training time in seconds\")\n",
        "plt.xlabel(\"Different Classifiers\")\n",
        "plt.title(\"Comparison of Training Time of different classifiers\")\n",
        "plt.bar(ytrainpos,ytrainlab,width=0.5,color='navy')\n",
        "plt.show()"
      ],
      "execution_count": 43,
      "outputs": [
        {
          "output_type": "display_data",
          "data": {
            "image/png": "[encoded data removed]",
            "text/plain": [
              "<Figure size 1152x504 with 1 Axes>"
            ]
          },
          "metadata": {
            "tags": [],
            "needs_background": "light"
          }
        }
      ]
    },
    {
      "cell_type": "code",
      "metadata": {
        "id": "7GsvMMLoGMlz"
      },
      "source": [
        "ypredlab=[]\n",
        "for val in prediction_time_container.values():\n",
        "    ypredlab.append(val)\n",
        "xpredlab=[]\n",
        "for key in prediction_time_container.keys():\n",
        "    xpredlab.append(key)"
      ],
      "execution_count": 44,
      "outputs": []
    },
    {
      "cell_type": "code",
      "metadata": {
        "colab": {
          "base_uri": "https://localhost:8080/",
          "height": 521
        },
        "id": "_-WueGwWGeHg",
        "outputId": "e743f829-f56d-4f8b-ad3f-7bd418574ff7"
      },
      "source": [
        "plt.figure(figsize=(16,7))\n",
        "plt.style.use(\"seaborn\")\n",
        "ypredpos=np.arange(len(xpredlab))\n",
        "plt.xticks(ypredpos,xpredlab,rotation=90)\n",
        "plt.ylabel(\"Prediction time in seconds\")\n",
        "plt.title(\"Comparison of Prediction Time of different classifiers\")\n",
        "plt.bar(ypredpos,ypredlab,width=0.5,color=\"orange\",edgecolor='black',linewidth=1.5)\n",
        "plt.xlabel(\"Different Classifiers\")\n",
        "plt.show()"
      ],
      "execution_count": 45,
      "outputs": [
        {
          "output_type": "display_data",
          "data": {
            "image/png": "[encoded data removed]",
            "text/plain": [
              "<Figure size 1152x504 with 1 Axes>"
            ]
          },
          "metadata": {
            "tags": []
          }
        }
      ]
    },
    {
      "cell_type": "code",
      "metadata": {
        "id": "ByiVaqdtGtPB"
      },
      "source": [
        "yacclab=[]\n",
        "for val in accuracy_container.values():\n",
        "    yacclab.append(val)\n",
        "xacclab=[]\n",
        "for key in accuracy_container.keys():\n",
        "    xacclab.append(key)"
      ],
      "execution_count": 46,
      "outputs": []
    },
    {
      "cell_type": "code",
      "metadata": {
        "colab": {
          "base_uri": "https://localhost:8080/",
          "height": 523
        },
        "id": "B9ZG5xIeG77i",
        "outputId": "c0d01eea-5ff5-4f19-995e-ccebbd623789"
      },
      "source": [
        "plt.figure(figsize=(16,7))\n",
        "plt.style.use(\"seaborn\")\n",
        "yaccpos=np.arange(len(xacclab))\n",
        "plt.xticks(yaccpos,xacclab,rotation=90)\n",
        "plt.ylabel(\"Accuracy Scores\")\n",
        "plt.ylim(0,1.0)\n",
        "plt.title(\"Comparison of Accuracy Scores of different classifiers\")\n",
        "plt.xlabel(\"Different Classifiers\")\n",
        "plt.bar(yaccpos,yacclab,width=0.5,color=\"green\",edgecolor='black',linewidth=1.5)\n",
        "plt.show()"
      ],
      "execution_count": 47,
      "outputs": [
        {
          "output_type": "display_data",
          "data": {
            "image/png": "[encoded data removed]",
            "text/plain": [
              "<Figure size 1152x504 with 1 Axes>"
            ]
          },
          "metadata": {
            "tags": []
          }
        }
      ]
    },
    {
      "cell_type": "code",
      "metadata": {
        "id": "zj5tuH1KHC6O"
      },
      "source": [
        "# Applying Chi-Square Feature Selection\n",
        "# currently we have used all the features from TFIDF matrix but we can reduce them using chi-square selection"
      ],
      "execution_count": 48,
      "outputs": []
    },
    {
      "cell_type": "code",
      "metadata": {
        "id": "ztFGUaNXHOmB"
      },
      "source": [
        "from sklearn.feature_selection import SelectKBest\n",
        "from sklearn.feature_selection import chi2\n",
        "X_new=SelectKBest(chi2,k=3805).fit_transform(variables,labels)"
      ],
      "execution_count": 50,
      "outputs": []
    },
    {
      "cell_type": "code",
      "metadata": {
        "id": "-sDjrc9dHi_6"
      },
      "source": [
        "#splititng the data into training and test data-set again:\n",
        "cvariables_train,cvariables_test,clabels_train,clabels_test=train_test_split(X_new,labels,test_size=.2)"
      ],
      "execution_count": 51,
      "outputs": []
    },
    {
      "cell_type": "code",
      "metadata": {
        "colab": {
          "base_uri": "https://localhost:8080/"
        },
        "id": "J41qnCaeHspY",
        "outputId": "a3038f0e-2a99-4b19-feda-d7d367a46d39"
      },
      "source": [
        "#now use these features to train the linear SVM Classifier and see what results do you get:\n",
        "svm_classifier2=linear_model.SGDClassifier(alpha=0.0001,penalty='elasticnet',max_iter=50)\n",
        "svm_classifier_f2=svm_classifier2.fit(cvariables_train, clabels_train)\n",
        "predictions_svm2=svm_classifier_f2.predict(cvariables_test)\n",
        "\n",
        "sklearn.metrics.confusion_matrix(clabels_test,predictions_svm2)"
      ],
      "execution_count": 52,
      "outputs": [
        {
          "output_type": "execute_result",
          "data": {
            "text/plain": [
              "array([[10,  0,  0, ...,  0,  0,  0],\n",
              "       [ 0, 11,  0, ...,  0,  0,  0],\n",
              "       [ 0,  0, 12, ...,  0,  0,  0],\n",
              "       ...,\n",
              "       [ 0,  0,  0, ...,  6,  0,  0],\n",
              "       [ 0,  0,  0, ...,  0,  7,  0],\n",
              "       [ 0,  0,  0, ...,  0,  0,  4]])"
            ]
          },
          "metadata": {
            "tags": []
          },
          "execution_count": 52
        }
      ]
    },
    {
      "cell_type": "code",
      "metadata": {
        "colab": {
          "base_uri": "https://localhost:8080/"
        },
        "id": "U15fvwynIQDj",
        "outputId": "360b6659-68de-4138-919a-89879d0b2f95"
      },
      "source": [
        "\n",
        "sklearn.metrics.accuracy_score(clabels_test,predictions_svm2)"
      ],
      "execution_count": 53,
      "outputs": [
        {
          "output_type": "execute_result",
          "data": {
            "text/plain": [
              "0.9876543209876543"
            ]
          },
          "metadata": {
            "tags": []
          },
          "execution_count": 53
        }
      ]
    }
  ]
}